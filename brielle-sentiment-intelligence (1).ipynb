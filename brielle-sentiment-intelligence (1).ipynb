{
 "cells": [
  {
   "cell_type": "code",
   "execution_count": null,
   "id": "f90a9f24-16f9-49b0-ae88-4d9bf620ec1f",
   "metadata": {},
   "outputs": [
    {
     "name": "stderr",
     "output_type": "stream",
     "text": [
      "Matplotlib is building the font cache; this may take a moment.\n"
     ]
    }
   ],
   "source": [
    "import pandas as pd\n",
    "import matplotlib.pyplot as plt\n",
    "from transformers import pipeline\n",
    "from sklearn.model_selection import train_test_split\n",
    "\n",
    "pd.set_option('display.max_colwidth', None)\n",
    "plt.style.use('seaborn-v0_8-muted')\n",
    "\n",
    "print(\"✅ Libraries berhasil diimport dan siap digunakan!\")"
   ]
  },
  {
   "cell_type": "markdown",
   "id": "e3b53f19-d4ed-47d7-99ec-1fd1e7872502",
   "metadata": {},
   "source": [
    "# 🧠 Brielle Sentiment Intelligence\n",
    "**Author:** Brielle Christabel  \n",
    "**Category:** Data Analysis + NLP  \n",
    "**Tech Stack:** Python, Pandas, Matplotlib, Hugging Face Transformers  \n",
    "\n",
    "---\n",
    "\n",
    "### 💬 About This Project  \n",
    "This notebook demonstrates how Natural Language Processing (NLP) can be used to analyze customer feedback and automatically detect sentiments — whether they are **positive**, **neutral**, or **negative**.  \n",
    "\n",
    "The project showcases a simple yet powerful pipeline using the **Hugging Face Transformers** library to process real-world text data (such as e-commerce or product reviews).  \n",
    "\n",
    "It’s designed to serve as a professional portfolio piece that reflects both **data analysis skills** and **AI engineering understanding** — engineered by *Brielle Christabel*, founder of *The Brielle Engine*."
   ]
  },
  {
   "cell_type": "markdown",
   "id": "353c2764-3f0d-4c85-88a4-0f2688e0c15f",
   "metadata": {},
   "source": [
    "## ⚙️ Installation & Setup\n",
    "\n",
    "Make sure all dependencies are installed before running the notebook.  \n",
    "If you're using a new environment, run the following in your terminal:\n",
    "\n",
    "```bash\n",
    "pip install -r requirements.txt"
   ]
  },
  {
   "cell_type": "markdown",
   "id": "b21203a9-d324-4aa9-a860-acd70c1365b3",
   "metadata": {},
   "source": [
    "## 2. Load & Explore Data\n",
    "\n",
    "Pada tahap ini, kita akan memuat dataset yang telah disiapkan, kemudian melakukan eksplorasi awal untuk memahami struktur data, jenis kolom, serta melihat beberapa contoh data. Hal ini penting untuk memastikan dataset siap digunakan dalam proses analisis sentimen."
   ]
  },
  {
   "cell_type": "code",
   "execution_count": 17,
   "id": "39b5172d-07df-4249-a1a7-17688eb1db14",
   "metadata": {},
   "outputs": [
    {
     "data": {
      "text/html": [
       "<div>\n",
       "<style scoped>\n",
       "    .dataframe tbody tr th:only-of-type {\n",
       "        vertical-align: middle;\n",
       "    }\n",
       "\n",
       "    .dataframe tbody tr th {\n",
       "        vertical-align: top;\n",
       "    }\n",
       "\n",
       "    .dataframe thead th {\n",
       "        text-align: right;\n",
       "    }\n",
       "</style>\n",
       "<table border=\"1\" class=\"dataframe\">\n",
       "  <thead>\n",
       "    <tr style=\"text-align: right;\">\n",
       "      <th></th>\n",
       "      <th>review</th>\n",
       "    </tr>\n",
       "  </thead>\n",
       "  <tbody>\n",
       "    <tr>\n",
       "      <th>0</th>\n",
       "      <td>I love the product! It works perfectly.</td>\n",
       "    </tr>\n",
       "    <tr>\n",
       "      <th>1</th>\n",
       "      <td>Delivery took too long and packaging was damaged.</td>\n",
       "    </tr>\n",
       "    <tr>\n",
       "      <th>2</th>\n",
       "      <td>Great value for money, will buy again!</td>\n",
       "    </tr>\n",
       "    <tr>\n",
       "      <th>3</th>\n",
       "      <td>Not satisfied, the item stopped working after ...</td>\n",
       "    </tr>\n",
       "    <tr>\n",
       "      <th>4</th>\n",
       "      <td>Customer service was very helpful and responsive.</td>\n",
       "    </tr>\n",
       "  </tbody>\n",
       "</table>\n",
       "</div>"
      ],
      "text/plain": [
       "                                              review\n",
       "0            I love the product! It works perfectly.\n",
       "1  Delivery took too long and packaging was damaged.\n",
       "2             Great value for money, will buy again!\n",
       "3  Not satisfied, the item stopped working after ...\n",
       "4  Customer service was very helpful and responsive."
      ]
     },
     "execution_count": 17,
     "metadata": {},
     "output_type": "execute_result"
    }
   ],
   "source": [
    "import pandas as pd\n",
    "df = pd.read_csv(\"reviews_sample.csv\")\n",
    "df.head()"
   ]
  },
  {
   "cell_type": "code",
   "execution_count": 18,
   "id": "70e75906-4428-4f5c-83fd-f44d7dd78482",
   "metadata": {},
   "outputs": [
    {
     "name": "stdout",
     "output_type": "stream",
     "text": [
      "<class 'pandas.core.frame.DataFrame'>\n",
      "RangeIndex: 7 entries, 0 to 6\n",
      "Data columns (total 1 columns):\n",
      " #   Column  Non-Null Count  Dtype \n",
      "---  ------  --------------  ----- \n",
      " 0   review  7 non-null      object\n",
      "dtypes: object(1)\n",
      "memory usage: 184.0+ bytes\n"
     ]
    },
    {
     "data": {
      "text/plain": [
       "review    0\n",
       "dtype: int64"
      ]
     },
     "execution_count": 18,
     "metadata": {},
     "output_type": "execute_result"
    }
   ],
   "source": [
    "# Melihat informasi umum dataset\n",
    "df.info()\n",
    "\n",
    "# Melihat statistik deskriptif\n",
    "df.describe()\n",
    "\n",
    "# Melihat jumlah data unik per kolom\n",
    "df.nunique()\n",
    "\n",
    "# Mengecek data kosong (missing values)\n",
    "df.isnull().sum()"
   ]
  },
  {
   "cell_type": "code",
   "execution_count": 20,
   "id": "d1b02442-11a6-445d-b38f-c9ba5f77e895",
   "metadata": {},
   "outputs": [
    {
     "name": "stdout",
     "output_type": "stream",
     "text": [
      "1. I love the product! It works perfectly.\n",
      "\n",
      "2. Delivery took too long and packaging was damaged.\n",
      "\n",
      "3. Great value for money, will buy again!\n",
      "\n",
      "4. Not satisfied, the item stopped working after a week.\n",
      "\n",
      "5. Customer service was very helpful and responsive.\n",
      "\n",
      "6. Average quality, expected more for the price.\n",
      "\n",
      "7. Excellent quality and super fast delivery!\n",
      "\n"
     ]
    }
   ],
   "source": [
    "# Menampilkan seluruh isi review\n",
    "for i, text in enumerate(df[\"review\"], 1):\n",
    "    print(f\"{i}. {text}\\n\")"
   ]
  },
  {
   "cell_type": "markdown",
   "id": "87f73b9d-c3f5-408e-b6c8-7b9bef15b5c2",
   "metadata": {},
   "source": [
    "### 🔍 Data Exploration — Melihat Isi Review\n",
    "\n",
    "Berikut adalah isi dari setiap ulasan pelanggan yang terdapat dalam dataset `reviews_sample.csv`.  \n",
    "Setiap baris merepresentasikan satu opini pelanggan yang akan dianalisis untuk mengetahui sentimennya (positif, negatif, atau netral).\n",
    "\n",
    "Dari hasil eksplorasi awal, kita dapat melihat bahwa data bersifat teks bebas (unstructured text), sehingga tahap selanjutnya adalah melakukan **preprocessing** seperti:\n",
    "- Membersihkan tanda baca dan karakter non-alfabet\n",
    "- Mengubah huruf menjadi lowercase\n",
    "- Menghapus stopwords\n",
    "- Dan menyiapkan teks untuk analisis sentimen lebih lanjut\n",
    "\n",
    "Langkah ini penting untuk memastikan model dapat memahami makna dari setiap review secara optimal."
   ]
  },
  {
   "cell_type": "markdown",
   "id": "b98d6cfb-6bc5-4c79-9ba1-c0dd871ed898",
   "metadata": {},
   "source": [
    "### 🧹 Data Cleaning & Preprocessing\n",
    "\n",
    "Sebelum analisis sentimen dilakukan, teks perlu dibersihkan terlebih dahulu agar model tidak salah memahami kata.  \n",
    "Langkah-langkah preprocessing meliputi:\n",
    "1. Mengubah semua teks menjadi huruf kecil (lowercase)  \n",
    "2. Menghapus tanda baca, angka, dan karakter spesial  \n",
    "3. Menghapus stopwords (kata umum seperti “dan”, “yang”, “di”, dll)  \n",
    "4. Melakukan tokenisasi (memecah kalimat menjadi kata-kata)  \n",
    "\n",
    "Proses ini akan membantu model memahami konteks dan emosi di setiap kalimat dengan lebih akurat."
   ]
  },
  {
   "cell_type": "code",
   "execution_count": 14,
   "id": "05644a72-cf59-4b95-88ad-4c4946589697",
   "metadata": {},
   "outputs": [
    {
     "name": "stderr",
     "output_type": "stream",
     "text": [
      "[nltk_data] Downloading package punkt to C:\\Users\\USER\n",
      "[nltk_data]     AK\\AppData\\Roaming\\nltk_data...\n",
      "[nltk_data]   Package punkt is already up-to-date!\n",
      "[nltk_data] Downloading package punkt_tab to C:\\Users\\USER\n",
      "[nltk_data]     AK\\AppData\\Roaming\\nltk_data...\n",
      "[nltk_data]   Package punkt_tab is already up-to-date!\n",
      "[nltk_data] Downloading package stopwords to C:\\Users\\USER\n",
      "[nltk_data]     AK\\AppData\\Roaming\\nltk_data...\n",
      "[nltk_data]   Package stopwords is already up-to-date!\n"
     ]
    },
    {
     "data": {
      "text/html": [
       "<div>\n",
       "<style scoped>\n",
       "    .dataframe tbody tr th:only-of-type {\n",
       "        vertical-align: middle;\n",
       "    }\n",
       "\n",
       "    .dataframe tbody tr th {\n",
       "        vertical-align: top;\n",
       "    }\n",
       "\n",
       "    .dataframe thead th {\n",
       "        text-align: right;\n",
       "    }\n",
       "</style>\n",
       "<table border=\"1\" class=\"dataframe\">\n",
       "  <thead>\n",
       "    <tr style=\"text-align: right;\">\n",
       "      <th></th>\n",
       "      <th>review</th>\n",
       "      <th>cleaned_review</th>\n",
       "    </tr>\n",
       "  </thead>\n",
       "  <tbody>\n",
       "    <tr>\n",
       "      <th>0</th>\n",
       "      <td>I love the product! It works perfectly.</td>\n",
       "      <td>love product works perfectly</td>\n",
       "    </tr>\n",
       "    <tr>\n",
       "      <th>1</th>\n",
       "      <td>Delivery took too long and packaging was damaged.</td>\n",
       "      <td>delivery took long packaging damaged</td>\n",
       "    </tr>\n",
       "    <tr>\n",
       "      <th>2</th>\n",
       "      <td>Great value for money, will buy again!</td>\n",
       "      <td>great value money buy</td>\n",
       "    </tr>\n",
       "    <tr>\n",
       "      <th>3</th>\n",
       "      <td>Not satisfied, the item stopped working after ...</td>\n",
       "      <td>satisfied item stopped working week</td>\n",
       "    </tr>\n",
       "    <tr>\n",
       "      <th>4</th>\n",
       "      <td>Customer service was very helpful and responsive.</td>\n",
       "      <td>customer service helpful responsive</td>\n",
       "    </tr>\n",
       "  </tbody>\n",
       "</table>\n",
       "</div>"
      ],
      "text/plain": [
       "                                              review  \\\n",
       "0            I love the product! It works perfectly.   \n",
       "1  Delivery took too long and packaging was damaged.   \n",
       "2             Great value for money, will buy again!   \n",
       "3  Not satisfied, the item stopped working after ...   \n",
       "4  Customer service was very helpful and responsive.   \n",
       "\n",
       "                         cleaned_review  \n",
       "0          love product works perfectly  \n",
       "1  delivery took long packaging damaged  \n",
       "2                 great value money buy  \n",
       "3   satisfied item stopped working week  \n",
       "4   customer service helpful responsive  "
      ]
     },
     "execution_count": 14,
     "metadata": {},
     "output_type": "execute_result"
    }
   ],
   "source": [
    "import nltk\n",
    "nltk.download('punkt')\n",
    "nltk.download('punkt_tab')  # ← tambahkan baris ini\n",
    "nltk.download('stopwords')\n",
    "from nltk.corpus import stopwords\n",
    "from nltk.tokenize import word_tokenize\n",
    "import re, string\n",
    "\n",
    "def clean_text(text):\n",
    "    text = text.lower()\n",
    "    text = re.sub(r'[%s]' % re.escape(string.punctuation), '', text)\n",
    "    text = re.sub(r'\\d+', '', text)\n",
    "    words = word_tokenize(text)\n",
    "    words = [w for w in words if w not in stopwords.words('english')]\n",
    "    return \" \".join(words)\n",
    "\n",
    "df['cleaned_review'] = df['review'].apply(clean_text)\n",
    "df.head()"
   ]
  },
  {
   "cell_type": "code",
   "execution_count": 15,
   "id": "d44430c8-6ec2-45bf-a0c0-7eb764c7eb20",
   "metadata": {},
   "outputs": [
    {
     "name": "stderr",
     "output_type": "stream",
     "text": [
      "Script file 'C:\\Users\\USER AK\\anaconda3\\envs\\sentiment\\Scripts\\pip-script.py' is not present.\n"
     ]
    },
    {
     "data": {
      "application/vnd.jupyter.widget-view+json": {
       "model_id": "55b56f34a49149d1812043fd75fae915",
       "version_major": 2,
       "version_minor": 0
      },
      "text/plain": [
       "config.json:   0%|          | 0.00/929 [00:00<?, ?B/s]"
      ]
     },
     "metadata": {},
     "output_type": "display_data"
    },
    {
     "name": "stderr",
     "output_type": "stream",
     "text": [
      "C:\\Users\\USER AK\\anaconda3\\envs\\sentiment\\lib\\site-packages\\huggingface_hub\\file_download.py:143: UserWarning: `huggingface_hub` cache-system uses symlinks by default to efficiently store duplicated files but your machine does not support them in C:\\Users\\USER AK\\.cache\\huggingface\\hub\\models--cardiffnlp--twitter-roberta-base-sentiment-latest. Caching files will still work but in a degraded version that might require more space on your disk. This warning can be disabled by setting the `HF_HUB_DISABLE_SYMLINKS_WARNING` environment variable. For more details, see https://huggingface.co/docs/huggingface_hub/how-to-cache#limitations.\n",
      "To support symlinks on Windows, you either need to activate Developer Mode or to run Python as an administrator. In order to activate developer mode, see this article: https://docs.microsoft.com/en-us/windows/apps/get-started/enable-your-device-for-development\n",
      "  warnings.warn(message)\n"
     ]
    },
    {
     "data": {
      "application/vnd.jupyter.widget-view+json": {
       "model_id": "0862b09bf28b47c5b0a5b04b85263135",
       "version_major": 2,
       "version_minor": 0
      },
      "text/plain": [
       "vocab.json: 0.00B [00:00, ?B/s]"
      ]
     },
     "metadata": {},
     "output_type": "display_data"
    },
    {
     "data": {
      "application/vnd.jupyter.widget-view+json": {
       "model_id": "c0272ac90fff48fe8630c156283ed31b",
       "version_major": 2,
       "version_minor": 0
      },
      "text/plain": [
       "merges.txt: 0.00B [00:00, ?B/s]"
      ]
     },
     "metadata": {},
     "output_type": "display_data"
    },
    {
     "data": {
      "application/vnd.jupyter.widget-view+json": {
       "model_id": "27a4dcb8a47247a48829f6b8ca3f15b6",
       "version_major": 2,
       "version_minor": 0
      },
      "text/plain": [
       "special_tokens_map.json:   0%|          | 0.00/239 [00:00<?, ?B/s]"
      ]
     },
     "metadata": {},
     "output_type": "display_data"
    },
    {
     "name": "stderr",
     "output_type": "stream",
     "text": [
      "Xet Storage is enabled for this repo, but the 'hf_xet' package is not installed. Falling back to regular HTTP download. For better performance, install the package with: `pip install huggingface_hub[hf_xet]` or `pip install hf_xet`\n"
     ]
    },
    {
     "data": {
      "application/vnd.jupyter.widget-view+json": {
       "model_id": "20d831fb6de441618e5b987f8e020923",
       "version_major": 2,
       "version_minor": 0
      },
      "text/plain": [
       "pytorch_model.bin:   0%|          | 0.00/501M [00:00<?, ?B/s]"
      ]
     },
     "metadata": {},
     "output_type": "display_data"
    },
    {
     "name": "stderr",
     "output_type": "stream",
     "text": [
      "Xet Storage is enabled for this repo, but the 'hf_xet' package is not installed. Falling back to regular HTTP download. For better performance, install the package with: `pip install huggingface_hub[hf_xet]` or `pip install hf_xet`\n"
     ]
    },
    {
     "data": {
      "application/vnd.jupyter.widget-view+json": {
       "model_id": "1ad818b2c0d14c27afff7315651f7b5a",
       "version_major": 2,
       "version_minor": 0
      },
      "text/plain": [
       "model.safetensors:   0%|          | 0.00/501M [00:00<?, ?B/s]"
      ]
     },
     "metadata": {},
     "output_type": "display_data"
    },
    {
     "name": "stderr",
     "output_type": "stream",
     "text": [
      "Some weights of the model checkpoint at cardiffnlp/twitter-roberta-base-sentiment-latest were not used when initializing RobertaForSequenceClassification: ['roberta.pooler.dense.bias', 'roberta.pooler.dense.weight']\n",
      "- This IS expected if you are initializing RobertaForSequenceClassification from the checkpoint of a model trained on another task or with another architecture (e.g. initializing a BertForSequenceClassification model from a BertForPreTraining model).\n",
      "- This IS NOT expected if you are initializing RobertaForSequenceClassification from the checkpoint of a model that you expect to be exactly identical (initializing a BertForSequenceClassification model from a BertForSequenceClassification model).\n"
     ]
    },
    {
     "data": {
      "text/html": [
       "<div>\n",
       "<style scoped>\n",
       "    .dataframe tbody tr th:only-of-type {\n",
       "        vertical-align: middle;\n",
       "    }\n",
       "\n",
       "    .dataframe tbody tr th {\n",
       "        vertical-align: top;\n",
       "    }\n",
       "\n",
       "    .dataframe thead th {\n",
       "        text-align: right;\n",
       "    }\n",
       "</style>\n",
       "<table border=\"1\" class=\"dataframe\">\n",
       "  <thead>\n",
       "    <tr style=\"text-align: right;\">\n",
       "      <th></th>\n",
       "      <th>review</th>\n",
       "      <th>cleaned_review</th>\n",
       "      <th>sentiment</th>\n",
       "    </tr>\n",
       "  </thead>\n",
       "  <tbody>\n",
       "    <tr>\n",
       "      <th>0</th>\n",
       "      <td>I love the product! It works perfectly.</td>\n",
       "      <td>love product works perfectly</td>\n",
       "      <td>positive</td>\n",
       "    </tr>\n",
       "    <tr>\n",
       "      <th>1</th>\n",
       "      <td>Delivery took too long and packaging was damaged.</td>\n",
       "      <td>delivery took long packaging damaged</td>\n",
       "      <td>negative</td>\n",
       "    </tr>\n",
       "    <tr>\n",
       "      <th>2</th>\n",
       "      <td>Great value for money, will buy again!</td>\n",
       "      <td>great value money buy</td>\n",
       "      <td>positive</td>\n",
       "    </tr>\n",
       "    <tr>\n",
       "      <th>3</th>\n",
       "      <td>Not satisfied, the item stopped working after ...</td>\n",
       "      <td>satisfied item stopped working week</td>\n",
       "      <td>negative</td>\n",
       "    </tr>\n",
       "    <tr>\n",
       "      <th>4</th>\n",
       "      <td>Customer service was very helpful and responsive.</td>\n",
       "      <td>customer service helpful responsive</td>\n",
       "      <td>positive</td>\n",
       "    </tr>\n",
       "  </tbody>\n",
       "</table>\n",
       "</div>"
      ],
      "text/plain": [
       "                                              review  \\\n",
       "0            I love the product! It works perfectly.   \n",
       "1  Delivery took too long and packaging was damaged.   \n",
       "2             Great value for money, will buy again!   \n",
       "3  Not satisfied, the item stopped working after ...   \n",
       "4  Customer service was very helpful and responsive.   \n",
       "\n",
       "                         cleaned_review sentiment  \n",
       "0          love product works perfectly  positive  \n",
       "1  delivery took long packaging damaged  negative  \n",
       "2                 great value money buy  positive  \n",
       "3   satisfied item stopped working week  negative  \n",
       "4   customer service helpful responsive  positive  "
      ]
     },
     "execution_count": 15,
     "metadata": {},
     "output_type": "execute_result"
    }
   ],
   "source": [
    "# Install transformers dan torch jika belum\n",
    "!pip install transformers torch --quiet\n",
    "\n",
    "# Import library\n",
    "from transformers import AutoTokenizer, AutoModelForSequenceClassification\n",
    "from scipy.special import softmax\n",
    "import numpy as np\n",
    "\n",
    "# Load model dan tokenizer terbaik\n",
    "MODEL = \"cardiffnlp/twitter-roberta-base-sentiment-latest\"\n",
    "tokenizer = AutoTokenizer.from_pretrained(MODEL)\n",
    "model = AutoModelForSequenceClassification.from_pretrained(MODEL)\n",
    "\n",
    "# Fungsi untuk prediksi sentimen\n",
    "def get_sentiment(text):\n",
    "    encoded = tokenizer(text, return_tensors='pt', truncation=True, max_length=512)\n",
    "    output = model(**encoded)\n",
    "    scores = output.logits[0].detach().numpy()\n",
    "    scores = softmax(scores)\n",
    "    labels = ['negative', 'neutral', 'positive']\n",
    "    return labels[np.argmax(scores)]\n",
    "\n",
    "# Terapkan ke dataset\n",
    "df['sentiment'] = df['cleaned_review'].apply(get_sentiment)\n",
    "\n",
    "# Lihat hasilnya\n",
    "df.head()"
   ]
  },
  {
   "cell_type": "code",
   "execution_count": 1,
   "id": "4cca9dc9-64c0-448d-9f99-64b607957a95",
   "metadata": {},
   "outputs": [],
   "source": [
    "import matplotlib.pyplot as plt\n",
    "import seaborn as sns\n",
    "sns.set(style=\"whitegrid\", palette=\"pastel\")"
   ]
  },
  {
   "cell_type": "code",
   "execution_count": 2,
   "id": "d4e84cc4-94be-4de4-8b90-60fdd3703e99",
   "metadata": {},
   "outputs": [
    {
     "name": "stderr",
     "output_type": "stream",
     "text": [
      "C:\\Users\\USER AK\\anaconda3\\envs\\sentiment\\lib\\site-packages\\IPython\\core\\pylabtools.py:170: UserWarning: Glyph 128171 (\\N{DIZZY SYMBOL}) missing from font(s) Arial.\n",
      "  fig.canvas.print_figure(bytes_io, **kw)\n"
     ]
    },
    {
     "data": {
      "image/png": "[encoded data removed]",
      "text/plain": [
       "<Figure size 640x480 with 1 Axes>"
      ]
     },
     "metadata": {},
     "output_type": "display_data"
    }
   ],
   "source": [
    "import matplotlib.pyplot as plt\n",
    "import seaborn as sns\n",
    "\n",
    "sns.set(style=\"whitegrid\", palette=\"pastel\")\n",
    "\n",
    "# Tes visualisasi sederhana biar yakin seaborn aktif\n",
    "sns.barplot(x=[\"Positive\", \"Negative\", \"Neutral\"], y=[50, 30, 20])\n",
    "plt.title(\"Test Chart - Seaborn Active 💫\")\n",
    "plt.show()"
   ]
  },
  {
   "cell_type": "code",
   "execution_count": 5,
   "id": "e0c445aa-7a3d-4ff0-a061-41ff588b3128",
   "metadata": {},
   "outputs": [
    {
     "data": {
      "text/html": [
       "<div>\n",
       "<style scoped>\n",
       "    .dataframe tbody tr th:only-of-type {\n",
       "        vertical-align: middle;\n",
       "    }\n",
       "\n",
       "    .dataframe tbody tr th {\n",
       "        vertical-align: top;\n",
       "    }\n",
       "\n",
       "    .dataframe thead th {\n",
       "        text-align: right;\n",
       "    }\n",
       "</style>\n",
       "<table border=\"1\" class=\"dataframe\">\n",
       "  <thead>\n",
       "    <tr style=\"text-align: right;\">\n",
       "      <th></th>\n",
       "      <th>review</th>\n",
       "    </tr>\n",
       "  </thead>\n",
       "  <tbody>\n",
       "    <tr>\n",
       "      <th>0</th>\n",
       "      <td>I really love this product! It works perfectly.</td>\n",
       "    </tr>\n",
       "    <tr>\n",
       "      <th>1</th>\n",
       "      <td>Terrible experience, I will never buy again.</td>\n",
       "    </tr>\n",
       "    <tr>\n",
       "      <th>2</th>\n",
       "      <td>It's okay, not too bad but not great either.</td>\n",
       "    </tr>\n",
       "    <tr>\n",
       "      <th>3</th>\n",
       "      <td>Excellent quality and fast shipping!</td>\n",
       "    </tr>\n",
       "    <tr>\n",
       "      <th>4</th>\n",
       "      <td>The packaging was awful, very disappointed.</td>\n",
       "    </tr>\n",
       "  </tbody>\n",
       "</table>\n",
       "</div>"
      ],
      "text/plain": [
       "                                            review\n",
       "0  I really love this product! It works perfectly.\n",
       "1     Terrible experience, I will never buy again.\n",
       "2     It's okay, not too bad but not great either.\n",
       "3             Excellent quality and fast shipping!\n",
       "4      The packaging was awful, very disappointed."
      ]
     },
     "execution_count": 5,
     "metadata": {},
     "output_type": "execute_result"
    }
   ],
   "source": [
    "import pandas as pd\n",
    "\n",
    "# Buat data contoh langsung\n",
    "data = {\n",
    "    \"review\": [\n",
    "        \"I really love this product! It works perfectly.\",\n",
    "        \"Terrible experience, I will never buy again.\",\n",
    "        \"It's okay, not too bad but not great either.\",\n",
    "        \"Excellent quality and fast shipping!\",\n",
    "        \"The packaging was awful, very disappointed.\"\n",
    "    ]\n",
    "}\n",
    "\n",
    "df = pd.DataFrame(data)\n",
    "\n",
    "# Lihat data\n",
    "df.head()"
   ]
  },
  {
   "cell_type": "code",
   "execution_count": 6,
   "id": "9f70d64c-a25b-404c-b311-16966a7e41b9",
   "metadata": {},
   "outputs": [
    {
     "name": "stderr",
     "output_type": "stream",
     "text": [
      "No model was supplied, defaulted to distilbert/distilbert-base-uncased-finetuned-sst-2-english and revision 714eb0f (https://huggingface.co/distilbert/distilbert-base-uncased-finetuned-sst-2-english).\n",
      "Using a pipeline without specifying a model name and revision in production is not recommended.\n",
      "Device set to use cpu\n"
     ]
    },
    {
     "data": {
      "text/html": [
       "<div>\n",
       "<style scoped>\n",
       "    .dataframe tbody tr th:only-of-type {\n",
       "        vertical-align: middle;\n",
       "    }\n",
       "\n",
       "    .dataframe tbody tr th {\n",
       "        vertical-align: top;\n",
       "    }\n",
       "\n",
       "    .dataframe thead th {\n",
       "        text-align: right;\n",
       "    }\n",
       "</style>\n",
       "<table border=\"1\" class=\"dataframe\">\n",
       "  <thead>\n",
       "    <tr style=\"text-align: right;\">\n",
       "      <th></th>\n",
       "      <th>review</th>\n",
       "      <th>sentiment</th>\n",
       "    </tr>\n",
       "  </thead>\n",
       "  <tbody>\n",
       "    <tr>\n",
       "      <th>0</th>\n",
       "      <td>I really love this product! It works perfectly.</td>\n",
       "      <td>POSITIVE</td>\n",
       "    </tr>\n",
       "    <tr>\n",
       "      <th>1</th>\n",
       "      <td>Terrible experience, I will never buy again.</td>\n",
       "      <td>NEGATIVE</td>\n",
       "    </tr>\n",
       "    <tr>\n",
       "      <th>2</th>\n",
       "      <td>It's okay, not too bad but not great either.</td>\n",
       "      <td>NEGATIVE</td>\n",
       "    </tr>\n",
       "    <tr>\n",
       "      <th>3</th>\n",
       "      <td>Excellent quality and fast shipping!</td>\n",
       "      <td>POSITIVE</td>\n",
       "    </tr>\n",
       "    <tr>\n",
       "      <th>4</th>\n",
       "      <td>The packaging was awful, very disappointed.</td>\n",
       "      <td>NEGATIVE</td>\n",
       "    </tr>\n",
       "  </tbody>\n",
       "</table>\n",
       "</div>"
      ],
      "text/plain": [
       "                                            review sentiment\n",
       "0  I really love this product! It works perfectly.  POSITIVE\n",
       "1     Terrible experience, I will never buy again.  NEGATIVE\n",
       "2     It's okay, not too bad but not great either.  NEGATIVE\n",
       "3             Excellent quality and fast shipping!  POSITIVE\n",
       "4      The packaging was awful, very disappointed.  NEGATIVE"
      ]
     },
     "execution_count": 6,
     "metadata": {},
     "output_type": "execute_result"
    }
   ],
   "source": [
    "from transformers import pipeline\n",
    "\n",
    "# Load model sentiment analysis\n",
    "sentiment_model = pipeline(\"sentiment-analysis\")\n",
    "\n",
    "# Terapkan model ke kolom review\n",
    "df[\"sentiment\"] = df[\"review\"].apply(lambda x: sentiment_model(x)[0][\"label\"])\n",
    "\n",
    "# Tampilkan hasil\n",
    "df"
   ]
  },
  {
   "cell_type": "code",
   "execution_count": 7,
   "id": "ddcebcdf-1500-45f5-8aaf-bde9f7cfa4b0",
   "metadata": {},
   "outputs": [
    {
     "data": {
      "image/png": "[encoded data removed]",
      "text/plain": [
       "<Figure size 700x500 with 1 Axes>"
      ]
     },
     "metadata": {},
     "output_type": "display_data"
    }
   ],
   "source": [
    "import matplotlib.pyplot as plt\n",
    "import seaborn as sns\n",
    "\n",
    "# Pastikan library siap\n",
    "sns.set(style=\"whitegrid\", palette=\"pastel\")\n",
    "\n",
    "# Hitung jumlah masing-masing sentimen\n",
    "sentiment_counts = df[\"sentiment\"].value_counts().reset_index()\n",
    "sentiment_counts.columns = [\"sentiment\", \"count\"]\n",
    "\n",
    "# Bikin grafik\n",
    "plt.figure(figsize=(7,5))\n",
    "sns.barplot(x=\"sentiment\", y=\"count\", data=sentiment_counts)\n",
    "\n",
    "# Judul dan label\n",
    "plt.title(\"Sentiment Distribution from Transformer Model\", fontsize=14, fontweight=\"bold\")\n",
    "plt.xlabel(\"Sentiment\", fontsize=12)\n",
    "plt.ylabel(\"Count\", fontsize=12)\n",
    "\n",
    "# Tampilkan hasil\n",
    "plt.show()"
   ]
  }
 ],
 "metadata": {
  "kernelspec": {
   "display_name": "Python 3 (ipykernel)",
   "language": "python",
   "name": "sentiment"
  },
  "language_info": {
   "codemirror_mode": {
    "name": "ipython",
    "version": 3
   },
   "file_extension": ".py",
   "mimetype": "text/x-python",
   "name": "python",
   "nbconvert_exporter": "python",
   "pygments_lexer": "ipython3",
   "version": "3.10.18"
  }
 },
 "nbformat": 4,
 "nbformat_minor": 5
}
